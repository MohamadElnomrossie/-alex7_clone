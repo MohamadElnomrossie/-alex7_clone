{
 "cells": [
  {
   "cell_type": "code",
   "execution_count": 217,
   "id": "80a1ec4d-91b5-40b0-8395-ebe6f90fdeae",
   "metadata": {},
   "outputs": [],
   "source": [
    "from sklearn.datasets import load_breast_cancer\n",
    "from sklearn.model_selection import train_test_split\n",
    "import numpy as np\n",
    "np.random.seed(10)"
   ]
  },
  {
   "cell_type": "code",
   "execution_count": 218,
   "id": "6d92347c-ec5a-4cab-8e1e-0ec4704f0e30",
   "metadata": {},
   "outputs": [],
   "source": [
    "X,y=load_breast_cancer(return_X_y=True)\n",
    "X_train,X_test,y_train,y_test=train_test_split(X,y,random_state=42)"
   ]
  },
  {
   "cell_type": "code",
   "execution_count": 3,
   "id": "b4ffbd71-f385-462e-9d04-3ebf483b8b57",
   "metadata": {},
   "outputs": [
    {
     "data": {
      "text/plain": [
       "(426, 30)"
      ]
     },
     "execution_count": 3,
     "metadata": {},
     "output_type": "execute_result"
    }
   ],
   "source": [
    "X_train.shape"
   ]
  },
  {
   "cell_type": "code",
   "execution_count": 172,
   "id": "2fb11cb0-de13-43fd-9eb3-7e09db56992e",
   "metadata": {},
   "outputs": [],
   "source": [
    "def sigmoid(x):\n",
    "    return 1/(1+np.exp(-x))"
   ]
  },
  {
   "cell_type": "code",
   "execution_count": 212,
   "id": "06b07d40-7c16-4b71-8075-20cc73a44456",
   "metadata": {},
   "outputs": [],
   "source": [
    "\n",
    "weights1=np.random.random((inp.shape[1],2))\n",
    "bias1=0\n",
    "weights2=np.random.random((2,2))\n",
    "bias2=0\n",
    "weights3=np.random.random((2,1))\n",
    "bias3=0\n",
    "inp=np.random.random((5,3)) #dummy data\n",
    "def forward(weights1,bias1,weights2,bias2,weights3,bias3,data):\n",
    "    input_layer=sigmoid(np.dot(data,weights1)+bias1)\n",
    "    hidden_layer=sigmoid(np.dot(input_layer,weights2)+bias2)\n",
    "    output=np.dot(hidden_layer,weights3)+bias3\n",
    "    return output"
   ]
  },
  {
   "cell_type": "code",
   "execution_count": 214,
   "id": "6c1c7960-6493-4bff-b93f-9a235d865632",
   "metadata": {},
   "outputs": [
    {
     "data": {
      "text/plain": [
       "array([[0.68455424],\n",
       "       [0.67524161],\n",
       "       [0.70665586],\n",
       "       [0.70238912],\n",
       "       [0.71791931]])"
      ]
     },
     "execution_count": 214,
     "metadata": {},
     "output_type": "execute_result"
    }
   ],
   "source": [
    "forward(weights1,bias1,weights2,bias2,weights3,bias3,inp)"
   ]
  },
  {
   "cell_type": "code",
   "execution_count": 186,
   "id": "8df8606d-2605-41d3-a895-030ab44aa8c7",
   "metadata": {},
   "outputs": [
    {
     "data": {
      "text/plain": [
       "(2, 1)"
      ]
     },
     "execution_count": 186,
     "metadata": {},
     "output_type": "execute_result"
    }
   ],
   "source": [
    "np.weights3.shape"
   ]
  },
  {
   "cell_type": "code",
   "execution_count": 146,
   "id": "5d94457a-b12c-4c94-887b-60e12640702c",
   "metadata": {},
   "outputs": [
    {
     "data": {
      "text/plain": [
       "(3,)"
      ]
     },
     "execution_count": 146,
     "metadata": {},
     "output_type": "execute_result"
    }
   ],
   "source": [
    "inp[0].shape"
   ]
  },
  {
   "cell_type": "code",
   "execution_count": 147,
   "id": "33ddba78-2d12-4881-b32c-da17198f591e",
   "metadata": {},
   "outputs": [
    {
     "data": {
      "text/plain": [
       "array([0.06143108, 0.59817351, 0.88592025])"
      ]
     },
     "execution_count": 147,
     "metadata": {},
     "output_type": "execute_result"
    }
   ],
   "source": [
    "inp[0]"
   ]
  },
  {
   "cell_type": "code",
   "execution_count": 149,
   "id": "fac3f6e1-8d68-40a0-bdf0-04559af1266e",
   "metadata": {},
   "outputs": [
    {
     "data": {
      "text/plain": [
       "array([[0.3026453 ],\n",
       "       [0.03948626],\n",
       "       [0.27738455],\n",
       "       [0.3127543 ],\n",
       "       [0.2949261 ]])"
      ]
     },
     "execution_count": 149,
     "metadata": {},
     "output_type": "execute_result"
    }
   ],
   "source": [
    "np.dot(inp,weights1)"
   ]
  },
  {
   "cell_type": "code",
   "execution_count": 150,
   "id": "adc7a378-dc8e-4f5e-9987-8bee3290897b",
   "metadata": {},
   "outputs": [
    {
     "data": {
      "text/plain": [
       "array([[0.06143108, 0.59817351, 0.88592025],\n",
       "       [0.41213378, 0.0382722 , 0.0808424 ],\n",
       "       [0.08191454, 0.80936733, 0.800694  ],\n",
       "       [0.01690981, 0.86129433, 0.91130022],\n",
       "       [0.40087668, 0.2868907 , 0.84304489]])"
      ]
     },
     "execution_count": 150,
     "metadata": {},
     "output_type": "execute_result"
    }
   ],
   "source": [
    "inp"
   ]
  }
 ],
 "metadata": {
  "kernelspec": {
   "display_name": "Python 3 (ipykernel)",
   "language": "python",
   "name": "python3"
  },
  "language_info": {
   "codemirror_mode": {
    "name": "ipython",
    "version": 3
   },
   "file_extension": ".py",
   "mimetype": "text/x-python",
   "name": "python",
   "nbconvert_exporter": "python",
   "pygments_lexer": "ipython3",
   "version": "3.9.0"
  }
 },
 "nbformat": 4,
 "nbformat_minor": 5
}
