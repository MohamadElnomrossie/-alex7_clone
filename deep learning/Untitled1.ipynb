{
 "cells": [
  {
   "cell_type": "code",
   "execution_count": 4,
   "id": "9cb8f077-87d9-415a-b139-c8f5778f02fa",
   "metadata": {},
   "outputs": [
    {
     "name": "stdout",
     "output_type": "stream",
     "text": [
      "['https://www.tensorflow.org/tutorials/keras/regression']\n"
     ]
    }
   ],
   "source": [
    "t=open ('tensorflow.txt') \n",
    "print(t.readlines())"
   ]
  },
  {
   "cell_type": "code",
   "execution_count": 5,
   "id": "5b787032-1fe2-4760-a049-c4f19e06fdb5",
   "metadata": {},
   "outputs": [],
   "source": [
    "t.close()"
   ]
  },
  {
   "cell_type": "code",
   "execution_count": 6,
   "id": "f08eb4d1-efcb-411b-9b6b-b06cb5822d63",
   "metadata": {},
   "outputs": [
    {
     "name": "stdout",
     "output_type": "stream",
     "text": [
      "['https://www.tensorflow.org/tutorials/keras/regression']\n"
     ]
    }
   ],
   "source": [
    "with open('tensorflow.txt') as t:\n",
    "    print(t.readlines())"
   ]
  },
  {
   "cell_type": "code",
   "execution_count": null,
   "id": "a3cbfdba-2c4b-4a79-9c66-a6e479f4107d",
   "metadata": {},
   "outputs": [],
   "source": []
  }
 ],
 "metadata": {
  "kernelspec": {
   "display_name": "Python 3 (ipykernel)",
   "language": "python",
   "name": "python3"
  },
  "language_info": {
   "codemirror_mode": {
    "name": "ipython",
    "version": 3
   },
   "file_extension": ".py",
   "mimetype": "text/x-python",
   "name": "python",
   "nbconvert_exporter": "python",
   "pygments_lexer": "ipython3",
   "version": "3.9.0"
  }
 },
 "nbformat": 4,
 "nbformat_minor": 5
}
